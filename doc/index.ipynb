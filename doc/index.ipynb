{
 "cells": [
  {
   "cell_type": "markdown",
   "metadata": {},
   "source": [
    "# xdbg - A demo for interactive Python\n",
    "*`xdbg` is a demo of what my ideal interaction model with Jupyter kernels would be.*\n",
    "\n",
    "* Home: http://kitaev.io/xdbg\n",
    "* GitHub: http://github.com/nikitakit/xdbg"
   ]
  },
  {
   "cell_type": "markdown",
   "metadata": {},
   "source": [
    "## Demo\n",
    "TODO"
   ]
  },
  {
   "cell_type": "markdown",
   "metadata": {},
   "source": [
    "## Motivation\n",
    "I write Python code in Jupyter notebooks every day.\n",
    "\n",
    "When writing any sort of complicated behavior, I start by assigning sample inputs to variable. Then I operate on them step-by-step in different notebook cells. The interactive notebook systems lets me inspect intermediate values, and react to bugs by re-running a single cell instead of restarting the program from scratch. Once I've tested that everything works, I consolidate the steps and move them into a function definition.\n",
    "\n",
    "Unfortunately, the interactivity ends there. IPython's execution model works great at global scope, but doesn't support entering the body of a function or class. If code in a function has a bug, I have to completely switch workflows. Often times I end up doing inefficient debugging with print statements. A debugger can work better, but the options available are closer to a bare-bones python REPL than to the full interactive power of the Jupyter notebook.\n",
    "\n",
    "This demo is proposal for running interactive Python code *inside local scope*."
   ]
  },
  {
   "cell_type": "markdown",
   "metadata": {},
   "source": [
    "## Try it yourself\n",
    "The code is currently in a single `xdbg.py` file, available from http://github.com/nikitakit/xdbg\n",
    "\n",
    "It requires __Python 3.5__, as well as a recent version of Jupyter and the IPython kernel.\n",
    "\n",
    "The Jupyter client used in the demo is the [Hydrogen](https://atom.io/packages/hydrogen) plugin for the [Atom text editor](https://atom.io)."
   ]
  },
  {
   "cell_type": "markdown",
   "metadata": {},
   "source": [
    "## Wishlist\n",
    "\n",
    "This demo only implements a small set of functionality. Here are some improvements that could be made (contributions welcome!)\n",
    "* Support for disabling breakpoints, listing breakpoints, as well as conditional and temporary breakpoints\n",
    "* Client UI improvements\n",
    "* Testing interaction with other language features (for example, closures and `nonlocal` statements currently aren't handled properly)\n",
    "* Switch to using true breakpoints instead of overriding functions with a proxy object. (Very tricky, or maybe impossible, to implement. `xdbg` allows `return`ing from the breakpoint location with a user-specified value, which is unsupported by `pdb` or any other Python debugger I know of.)"
   ]
  }
 ],
 "metadata": {
  "kernelspec": {
   "display_name": "Python 3",
   "language": "python",
   "name": "python3"
  },
  "language_info": {
   "codemirror_mode": {
    "name": "ipython",
    "version": 3
   },
   "file_extension": ".py",
   "mimetype": "text/x-python",
   "name": "python",
   "nbconvert_exporter": "python",
   "pygments_lexer": "ipython3",
   "version": "3.5.1"
  },
  "toc": {
   "toc_cell": false,
   "toc_number_sections": true,
   "toc_threshold": 6,
   "toc_window_display": false
  }
 },
 "nbformat": 4,
 "nbformat_minor": 0
}
